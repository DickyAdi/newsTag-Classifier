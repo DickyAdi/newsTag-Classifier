{
 "cells": [
  {
   "cell_type": "code",
   "execution_count": 2,
   "metadata": {},
   "outputs": [],
   "source": [
    "import os\n",
    "import pandas as pd\n",
    "import numpy as np\n",
    "import joblib\n",
    "from sklearn.feature_extraction.text import CountVectorizer, TfidfVectorizer\n",
    "# from sklearn.model_selection import train_test_split ## since we already have splitted dataset, therefore we dont really need this\n",
    "from sklearn.naive_bayes import MultinomialNB\n",
    "\n",
    "import nltk\n",
    "from nltk import word_tokenize\n",
    "from nltk.corpus import wordnet, stopwords\n",
    "from nltk.stem import WordNetLemmatizer\n",
    "\n",
    "# nltk.download('punkt')\n",
    "# nltk.download('wordnet')\n",
    "# nltk.download('averaged_perceptron_tagger')\n",
    "# nltk.download('stopwords')"
   ]
  },
  {
   "cell_type": "code",
   "execution_count": 3,
   "metadata": {},
   "outputs": [],
   "source": [
    "trainPath = 'train.csv'\n",
    "testPath = 'test.csv'\n",
    "label = ['World', 'Sports', 'Business', 'Sci/Tech']"
   ]
  },
  {
   "cell_type": "code",
   "execution_count": 48,
   "metadata": {},
   "outputs": [],
   "source": [
    "realTest = '/Users/kycdia/Downloads'\n",
    "realArr = np.array([str(dir) for dir in os.listdir(realTest)])"
   ]
  },
  {
   "cell_type": "code",
   "execution_count": 4,
   "metadata": {},
   "outputs": [],
   "source": [
    "trainDf = pd.read_csv(trainPath)\n",
    "testDf = pd.read_csv(testPath)\n",
    "# trainDf['label'] = trainDf['label'].map(label)\n",
    "# testDf['label'] = label[testDf['label']]"
   ]
  },
  {
   "cell_type": "code",
   "execution_count": 50,
   "metadata": {},
   "outputs": [
    {
     "data": {
      "text/html": [
       "<div>\n",
       "<style scoped>\n",
       "    .dataframe tbody tr th:only-of-type {\n",
       "        vertical-align: middle;\n",
       "    }\n",
       "\n",
       "    .dataframe tbody tr th {\n",
       "        vertical-align: top;\n",
       "    }\n",
       "\n",
       "    .dataframe thead th {\n",
       "        text-align: right;\n",
       "    }\n",
       "</style>\n",
       "<table border=\"1\" class=\"dataframe\">\n",
       "  <thead>\n",
       "    <tr style=\"text-align: right;\">\n",
       "      <th></th>\n",
       "      <th>text</th>\n",
       "      <th>label</th>\n",
       "    </tr>\n",
       "  </thead>\n",
       "  <tbody>\n",
       "    <tr>\n",
       "      <th>0</th>\n",
       "      <td>Wall St. Bears Claw Back Into the Black (Reute...</td>\n",
       "      <td>2</td>\n",
       "    </tr>\n",
       "    <tr>\n",
       "      <th>1</th>\n",
       "      <td>Carlyle Looks Toward Commercial Aerospace (Reu...</td>\n",
       "      <td>2</td>\n",
       "    </tr>\n",
       "    <tr>\n",
       "      <th>2</th>\n",
       "      <td>Oil and Economy Cloud Stocks' Outlook (Reuters...</td>\n",
       "      <td>2</td>\n",
       "    </tr>\n",
       "    <tr>\n",
       "      <th>3</th>\n",
       "      <td>Iraq Halts Oil Exports from Main Southern Pipe...</td>\n",
       "      <td>2</td>\n",
       "    </tr>\n",
       "    <tr>\n",
       "      <th>4</th>\n",
       "      <td>Oil prices soar to all-time record, posing new...</td>\n",
       "      <td>2</td>\n",
       "    </tr>\n",
       "  </tbody>\n",
       "</table>\n",
       "</div>"
      ],
      "text/plain": [
       "                                                text  label\n",
       "0  Wall St. Bears Claw Back Into the Black (Reute...      2\n",
       "1  Carlyle Looks Toward Commercial Aerospace (Reu...      2\n",
       "2  Oil and Economy Cloud Stocks' Outlook (Reuters...      2\n",
       "3  Iraq Halts Oil Exports from Main Southern Pipe...      2\n",
       "4  Oil prices soar to all-time record, posing new...      2"
      ]
     },
     "execution_count": 50,
     "metadata": {},
     "output_type": "execute_result"
    }
   ],
   "source": [
    "trainDf.head()"
   ]
  },
  {
   "cell_type": "code",
   "execution_count": 51,
   "metadata": {},
   "outputs": [
    {
     "data": {
      "text/html": [
       "<div>\n",
       "<style scoped>\n",
       "    .dataframe tbody tr th:only-of-type {\n",
       "        vertical-align: middle;\n",
       "    }\n",
       "\n",
       "    .dataframe tbody tr th {\n",
       "        vertical-align: top;\n",
       "    }\n",
       "\n",
       "    .dataframe thead th {\n",
       "        text-align: right;\n",
       "    }\n",
       "</style>\n",
       "<table border=\"1\" class=\"dataframe\">\n",
       "  <thead>\n",
       "    <tr style=\"text-align: right;\">\n",
       "      <th></th>\n",
       "      <th>text</th>\n",
       "      <th>label</th>\n",
       "    </tr>\n",
       "  </thead>\n",
       "  <tbody>\n",
       "    <tr>\n",
       "      <th>0</th>\n",
       "      <td>Fears for T N pension after talks Unions repre...</td>\n",
       "      <td>2</td>\n",
       "    </tr>\n",
       "    <tr>\n",
       "      <th>1</th>\n",
       "      <td>The Race is On: Second Private Team Sets Launc...</td>\n",
       "      <td>3</td>\n",
       "    </tr>\n",
       "    <tr>\n",
       "      <th>2</th>\n",
       "      <td>Ky. Company Wins Grant to Study Peptides (AP) ...</td>\n",
       "      <td>3</td>\n",
       "    </tr>\n",
       "    <tr>\n",
       "      <th>3</th>\n",
       "      <td>Prediction Unit Helps Forecast Wildfires (AP) ...</td>\n",
       "      <td>3</td>\n",
       "    </tr>\n",
       "    <tr>\n",
       "      <th>4</th>\n",
       "      <td>Calif. Aims to Limit Farm-Related Smog (AP) AP...</td>\n",
       "      <td>3</td>\n",
       "    </tr>\n",
       "  </tbody>\n",
       "</table>\n",
       "</div>"
      ],
      "text/plain": [
       "                                                text  label\n",
       "0  Fears for T N pension after talks Unions repre...      2\n",
       "1  The Race is On: Second Private Team Sets Launc...      3\n",
       "2  Ky. Company Wins Grant to Study Peptides (AP) ...      3\n",
       "3  Prediction Unit Helps Forecast Wildfires (AP) ...      3\n",
       "4  Calif. Aims to Limit Farm-Related Smog (AP) AP...      3"
      ]
     },
     "execution_count": 51,
     "metadata": {},
     "output_type": "execute_result"
    }
   ],
   "source": [
    "testDf.head()"
   ]
  },
  {
   "cell_type": "code",
   "execution_count": 5,
   "metadata": {},
   "outputs": [],
   "source": [
    "trainInput = trainDf['text']\n",
    "trainLabel = trainDf['label']\n",
    "testInput = testDf['text']\n",
    "testLabel = testDf['label']"
   ]
  },
  {
   "cell_type": "code",
   "execution_count": 53,
   "metadata": {},
   "outputs": [],
   "source": [
    "countVec = CountVectorizer()\n",
    "\n",
    "xTrain = countVec.fit_transform(trainInput)\n",
    "xTest = countVec.transform(testInput)\n",
    "yTrain = trainLabel.values\n",
    "yTest = testLabel.values"
   ]
  },
  {
   "cell_type": "code",
   "execution_count": 54,
   "metadata": {},
   "outputs": [
    {
     "name": "stdout",
     "output_type": "stream",
     "text": [
      "0.9172666666666667\n",
      "0.900921052631579\n"
     ]
    }
   ],
   "source": [
    "model1 = MultinomialNB()\n",
    "model1.fit(xTrain, yTrain)\n",
    "print(model1.score(xTrain, yTrain))\n",
    "print(model1.score(xTest, yTest))"
   ]
  },
  {
   "cell_type": "code",
   "execution_count": 66,
   "metadata": {},
   "outputs": [
    {
     "name": "stdout",
     "output_type": "stream",
     "text": [
      "0.9202166666666667\n",
      "0.9044736842105263\n"
     ]
    }
   ],
   "source": [
    "countVec2 = CountVectorizer(stop_words='english')\n",
    "xTrain = countVec2.fit_transform(trainInput)\n",
    "xTest = countVec2.transform(testInput)\n",
    "model2 = MultinomialNB()\n",
    "model2.fit(xTrain, yTrain)\n",
    "print(model2.score(xTrain, yTrain))\n",
    "print(model2.score(xTest, yTest))"
   ]
  },
  {
   "cell_type": "code",
   "execution_count": 7,
   "metadata": {},
   "outputs": [],
   "source": [
    "class lemmaToken():\n",
    "    def __init__(self) -> None:\n",
    "        self.wordnetLemma = WordNetLemmatizer()\n",
    "        self.stopWords = set(stopwords.words('english'))\n",
    "    def getPos(self, tags:str):\n",
    "        if tags.startswith('J'):\n",
    "            return wordnet.ADJ\n",
    "        elif tags.startswith('V'):\n",
    "            return wordnet.VERB\n",
    "        elif tags.startswith('N'):\n",
    "            return wordnet.NOUN\n",
    "        elif tags.startswith('R'):\n",
    "            return wordnet.ADV\n",
    "        else:\n",
    "            return wordnet.NOUN\n",
    "    def __call__(self, doc):\n",
    "        tokens = word_tokenize(doc)\n",
    "        wordsNtokens = nltk.pos_tag(tokens)\n",
    "        return [self.wordnetLemma.lemmatize(word, pos=self.getPos(tag)) for word, tag in wordsNtokens if word.lower() not in self.stopWords]"
   ]
  },
  {
   "cell_type": "code",
   "execution_count": 85,
   "metadata": {},
   "outputs": [
    {
     "name": "stderr",
     "output_type": "stream",
     "text": [
      "/Library/Frameworks/Python.framework/Versions/3.11/lib/python3.11/site-packages/sklearn/feature_extraction/text.py:528: UserWarning: The parameter 'token_pattern' will not be used since 'tokenizer' is not None'\n",
      "  warnings.warn(\n",
      "/Library/Frameworks/Python.framework/Versions/3.11/lib/python3.11/site-packages/sklearn/feature_extraction/text.py:409: UserWarning: Your stop_words may be inconsistent with your preprocessing. Tokenizing the stop words generated tokens ['make', 'u'] not in stop_words.\n",
      "  warnings.warn(\n"
     ]
    },
    {
     "name": "stdout",
     "output_type": "stream",
     "text": [
      "0.91925\n",
      "0.9030263157894737\n"
     ]
    }
   ],
   "source": [
    "countVec3 = CountVectorizer(stop_words='english', tokenizer=lemmaToken())\n",
    "xTrain = countVec3.fit_transform(trainInput)\n",
    "xTest = countVec3.transform(testInput)\n",
    "model3 = MultinomialNB()\n",
    "model3.fit(xTrain, yTrain)\n",
    "print(model3.score(xTrain, yTrain))\n",
    "print(model3.score(xTest, yTest))"
   ]
  },
  {
   "cell_type": "code",
   "execution_count": 86,
   "metadata": {},
   "outputs": [
    {
     "name": "stdout",
     "output_type": "stream",
     "text": [
      "training score 0.91925\n",
      "test score 0.9030263157894737\n",
      "score deviation 0.016223684210526335\n"
     ]
    }
   ],
   "source": [
    "trainingScore = model3.score(xTrain, yTrain)\n",
    "testScore = model3.score(xTest, yTest)\n",
    "print(f'training score {trainingScore}')\n",
    "print(f'test score {testScore}')\n",
    "print(f'score deviation {trainingScore-testScore}')"
   ]
  },
  {
   "cell_type": "code",
   "execution_count": 8,
   "metadata": {},
   "outputs": [
    {
     "name": "stderr",
     "output_type": "stream",
     "text": [
      "/Library/Frameworks/Python.framework/Versions/3.11/lib/python3.11/site-packages/sklearn/feature_extraction/text.py:528: UserWarning: The parameter 'token_pattern' will not be used since 'tokenizer' is not None'\n",
      "  warnings.warn(\n"
     ]
    },
    {
     "ename": "NameError",
     "evalue": "name 'yTrain' is not defined",
     "output_type": "error",
     "traceback": [
      "\u001b[0;31m---------------------------------------------------------------------------\u001b[0m",
      "\u001b[0;31mNameError\u001b[0m                                 Traceback (most recent call last)",
      "Cell \u001b[0;32mIn[8], line 5\u001b[0m\n\u001b[1;32m      3\u001b[0m xTest \u001b[38;5;241m=\u001b[39m tfIdfVec\u001b[38;5;241m.\u001b[39mtransform(testInput)\n\u001b[1;32m      4\u001b[0m model4 \u001b[38;5;241m=\u001b[39m MultinomialNB()\n\u001b[0;32m----> 5\u001b[0m model4\u001b[38;5;241m.\u001b[39mfit(xTrain, \u001b[43myTrain\u001b[49m)\n\u001b[1;32m      6\u001b[0m \u001b[38;5;28mprint\u001b[39m(model4\u001b[38;5;241m.\u001b[39mscore(xTrain, yTrain))\n\u001b[1;32m      7\u001b[0m \u001b[38;5;28mprint\u001b[39m(model4\u001b[38;5;241m.\u001b[39mscore(xTest, yTest))\n",
      "\u001b[0;31mNameError\u001b[0m: name 'yTrain' is not defined"
     ]
    }
   ],
   "source": [
    "tfIdfVec = TfidfVectorizer(tokenizer=lemmaToken())\n",
    "xTrain = tfIdfVec.fit_transform(trainInput)\n",
    "xTest = tfIdfVec.transform(testInput)\n",
    "model4 = MultinomialNB()\n",
    "model4.fit(xTrain, yTrain)\n",
    "print(model4.score(xTrain, yTrain))\n",
    "print(model4.score(xTest, yTest))"
   ]
  },
  {
   "cell_type": "code",
   "execution_count": 89,
   "metadata": {},
   "outputs": [
    {
     "name": "stdout",
     "output_type": "stream",
     "text": [
      "training score 0.9183916666666667\n",
      "test score 0.9032894736842105\n",
      "score deviation 0.015102192982456186\n"
     ]
    }
   ],
   "source": [
    "trainingScore = model4.score(xTrain, yTrain)\n",
    "testScore = model4.score(xTest, yTest)\n",
    "print(f'training score {trainingScore}')\n",
    "print(f'test score {testScore}')\n",
    "print(f'score deviation {trainingScore-testScore}')"
   ]
  },
  {
   "cell_type": "code",
   "execution_count": 91,
   "metadata": {},
   "outputs": [
    {
     "data": {
      "text/plain": [
       "['NB_lemma_Tfidf.pkl']"
      ]
     },
     "execution_count": 91,
     "metadata": {},
     "output_type": "execute_result"
    }
   ],
   "source": [
    "joblib.dump(model4, 'NB_lemma_Tfidf.pkl')"
   ]
  },
  {
   "cell_type": "code",
   "execution_count": 93,
   "metadata": {},
   "outputs": [
    {
     "data": {
      "text/plain": [
       "0.9032894736842105"
      ]
     },
     "execution_count": 93,
     "metadata": {},
     "output_type": "execute_result"
    }
   ],
   "source": [
    "cobaModel = joblib.load('NB_lemma_Tfidf.pkl')\n",
    "cobaModel.score(xTest, yTest)"
   ]
  },
  {
   "cell_type": "code",
   "execution_count": 94,
   "metadata": {},
   "outputs": [],
   "source": [
    "realArrTest = tfIdfVec.transform(realArr)"
   ]
  },
  {
   "cell_type": "code",
   "execution_count": 96,
   "metadata": {},
   "outputs": [],
   "source": [
    "realArrVal = model4.predict(realArrTest)"
   ]
  },
  {
   "cell_type": "code",
   "execution_count": 97,
   "metadata": {},
   "outputs": [
    {
     "name": "stdout",
     "output_type": "stream",
     "text": [
      "class Sci/Tech with the query of Preview Transkrip.pdf\n",
      "class World with the query of Birokrasi Complex.mp4\n",
      "class World with the query of Montgomery_Fleet_Equipment_Inventory_FA_PART_1_END.xlsx\n",
      "class Sci/Tech with the query of Bukti daftar form ICOICT.pdf\n",
      "class World with the query of googlechrome.dmg\n",
      "class Business with the query of Revisi 2 - PROPOSAL PENELITIAN indra (1).pdf\n",
      "class World with the query of DickyA_Resume.pdf\n",
      "class World with the query of cleanedData.xlsx\n",
      "class World with the query of output2_video-3.mp4\n",
      "class World with the query of Montgomery_Fleet_Equipment_Inventory_FA_PART_2_START.xlsx\n",
      "class Sci/Tech with the query of WhatsApp Image 2023-11-23 at 10.05.46 PM.jpeg\n",
      "class World with the query of output2_video-2.mp4\n",
      "class World with the query of 1507.05717.pdf\n",
      "class Business with the query of Data Freeways.csv\n",
      "class World with the query of LAPORAN SERTIJAB.docx\n",
      "class Sci/Tech with the query of WhatsApp Image 2023-06-10 at 12.57.05.jpeg\n",
      "class World with the query of CarSalesByModelEnd.xlsx\n",
      "class Sci/Tech with the query of Statistics for Data Science and Business Analysis\n",
      "class World with the query of Bensaeed_2014_IOP_Conf._Ser.%3A_Earth_Environ._Sci._20_012017.pdf\n",
      "class World with the query of ontgomery_Fleet_Equipment_Inventory_FA_PART_2_END.xlsx\n",
      "class Sci/Tech with the query of Formulir Permohonan Kerja (Fillable Form).pdf\n",
      "class Sci/Tech with the query of Acceleration\n",
      "class Business with the query of Machine_Learning_Deep_Neural_Network_(Basic_Concept).ipynb\n",
      "class Sci/Tech with the query of Video Not Available-YoutubeConvert.cc.mp3\n",
      "class World with the query of cleanedData OBD.xlsx\n",
      "class World with the query of inferenceVideo1-2.mp4\n",
      "class Sci/Tech with the query of awas-jatoh-sound-effects-(hd)-by-voicemod.mp3\n",
      "class Sci/Tech with the query of Clustering Algorithms.ipynb\n",
      "class World with the query of output2_video.mp4\n",
      "class Sci/Tech with the query of WhatsApp Image 2024-03-13 at 19.37.24 copy.jpeg\n",
      "class World with the query of Webex.dmg\n",
      "class World with the query of 1301194041_ijazah copy_page-0001.jpg\n",
      "class Sci/Tech with the query of HAPPY ASMARA - AMBYAR MAK PYAR ( Official Music Video ) Jhandut Version.mp4\n",
      "class World with the query of FinalCleaned-2.xlsx\n",
      "class World with the query of acumalaka-by-voicemod.mp3\n",
      "class Sports with the query of Draft paper_Sabila Amanda_inggris.pdf\n",
      "class World with the query of sus-by-voicemod.mp3\n",
      "class Sci/Tech with the query of BG Zoom wh2.jpg\n",
      "class Sci/Tech with the query of Sabila Amanda Putri Riyadi-resume.pdf\n",
      "class Sci/Tech with the query of DickyAdi_ICoICT Presentation slides.pptx\n",
      "class World with the query of 2023176925.pdf\n",
      "class Business with the query of Longitude 118.70654.xlsx\n",
      "class World with the query of 1570878443_need to edit.pdf\n",
      "class Sports with the query of Draft paper_Sabila Amanda.pdf\n",
      "class Business with the query of OBD data fix.xlsx\n",
      "class World with the query of Montgomery_Fleet_Equipment_Inventory_FA_PART_1_START.csv\n",
      "class World with the query of cleanedData OBD(processed).csv\n",
      "class Business with the query of Dicky Adi Naufal Farhansyah-resume-2.pdf\n",
      "class Business with the query of Draft_Manuscript_EBHI-Seg[1].docx\n",
      "class World with the query of inferenceVideo1.mp4\n",
      "class Sci/Tech with the query of Hybrid electric vehicle data-driven insights on hot-stabilized exhaust emissions and driving volatility.pdf\n",
      "class World with the query of 2010.11929-2.pdf\n",
      "class World with the query of .DS_Store\n",
      "class World with the query of Stiker Rasa Kamanta.docx\n",
      "class Sports with the query of draft paper_Sabila Amanda (1).docx\n",
      "class Business with the query of Dicky Adi Naufal-cover-letter-MLE_Traveloka.pdf\n",
      "class Business with the query of Bukti bayar paper ICoICT 2023 Dicky Adi 2.pdf\n",
      "class Business with the query of Dicky Adi Naufal Farhansyah-resume-3.pdf\n",
      "class Sports with the query of ZOOM BG - KICKSTART Your AI Career Journey.png\n",
      "class Sci/Tech with the query of Assessing heavy-duty vehicles (HDVs) on-road NOx emission in China from.pdf\n",
      "class Sports with the query of 1570877669 need to edit.pdf\n",
      "class World with the query of faceRecognition_DickyAdi.ipynb\n",
      "class World with the query of DA0101EN-3-Review-Exploratory-Data-Analysis.ipynb\n",
      "class Sci/Tech with the query of WhatsApp Image 2023-06-10 at 12.57.06 (2).jpeg\n",
      "class World with the query of 1804.04341v1.pdf\n",
      "class World with the query of ray-restu-fauzi-o-ame-ame-by-voicemod.mp3\n",
      "class Sci/Tech with the query of WhatsApp Image 2023-06-10 at 12.57.04.jpeg\n",
      "class Business with the query of project_1_1_1_Man_&_Female_Classification.ipynb\n",
      "class World with the query of Foto Pake Jahim.png\n",
      "class Sci/Tech with the query of Document from Dicky Adi.ipynb\n",
      "class Sci/Tech with the query of Preview Transkrip-2_page-0001-modified.jpg\n",
      "class World with the query of output4_video.mp4\n",
      "class Business with the query of 苏A9A940 - 发动机信息20221113-1213垃圾车 (1).xlsx\n",
      "class Business with the query of pexels_videos_2689 (1080p).mp4\n",
      "class World with the query of .localized\n",
      "class Sports with the query of Minta petunjuk para suhu.ipynb\n",
      "class World with the query of googlechrome-2.dmg\n",
      "class World with the query of template-skpl.doc\n",
      "class Business with the query of Dicky Adi Naufal Farhansyah-resume.pdf\n",
      "class Sports with the query of Draft ICODSA_Fadlan Akmal Ramadhan (1).pdf\n",
      "class World with the query of Channel-Attention_U-Net_Channel_Attention_Mechanism_for_Semantic_Segmentation_of_Esophagus_and_Esophageal_Cancer.pdf\n",
      "class World with the query of sample.zip\n",
      "class Sci/Tech with the query of Sabila Amanda Putri Riyadi-resume-6.pdf\n",
      "class World with the query of FinalCleaned.xlsx\n",
      "class Sports with the query of Timeline TA & Yudisium S1 IF Genap 2223.pdf\n",
      "class World with the query of cleanedData OBD(processed).xlsx\n",
      "class World with the query of HASIL.rar\n",
      "class Business with the query of 01112023_Final_Project (5).ipynb\n",
      "class World with the query of mang-eak-mank-eak-mang-eakk-yang-bener-hyper-guin-ini-yang-dima-by-voicemod.mp3\n",
      "class Sci/Tech with the query of PaperFormatModel (2).docx\n",
      "class World with the query of LAPORAN SERTIJAB_EDITED.docx\n",
      "class Sports with the query of Pas Photo-2.pdf\n",
      "class World with the query of House_Sales_in_King_Count_USA.ipynb\n",
      "class Sci/Tech with the query of ~$stribution of each type of driving behavior in w.docx\n",
      "class Business with the query of Copy_of_Copy_of_Faster_R_CNN (1).ipynb\n",
      "class Sci/Tech with the query of Dataset\n",
      "class World with the query of 2223-1_01_TAPublikasiConference_01_1301194041.pdf\n",
      "class World with the query of Birokrasi Complex_cut.mp4\n",
      "class World with the query of Heavy Duty Truck (3).csv\n",
      "class World with the query of diceLoss.svg\n",
      "class Sports with the query of Draft ICODSA_Fadlan Akmal Ramadhan.pdf\n",
      "class Sci/Tech with the query of WhatsApp Audio 2023-06-27 at 00.15.15.ogg\n",
      "class Sci/Tech with the query of Sabila Amanda Putri Riyadi-resume-7.pdf\n",
      "class Sports with the query of Prosedur Pembayaran AI Career Bootcamp (BATCH 2).pdf\n",
      "class World with the query of boxplot_masRandy.png\n",
      "class Business with the query of Longitude 118.77085.xlsx\n",
      "class World with the query of NewcleanedDataOBD(processed).csv\n",
      "class Business with the query of Dicky Adi Naufal-cover-letter-2.pdf\n",
      "class Sci/Tech with the query of Sabila Amanda Putri Riyadi-resume-5.pdf\n",
      "class Sci/Tech with the query of gender_classification (2).csv\n",
      "class World with the query of file.pdf\n",
      "class Sci/Tech with the query of WhatsApp Audio 2023-06-25 at 23.08.24.ogg\n",
      "class World with the query of DV0101EN-Final_Assign_Part_2_Questions.py\n",
      "class World with the query of Real-Time_Oil_Palm_Fruit_Grading_System_Using_Smartphone_and_Modified_YOLOv4-2.pdf\n",
      "class World with the query of output3_video.mp4\n",
      "class World with the query of testImages.csv\n",
      "class World with the query of Segmentation.ipynb\n",
      "class World with the query of INIII.docx\n",
      "class Sports with the query of Congratulations! HR Interview_FAQ Codility.pdf\n",
      "class Sci/Tech with the query of Video presentasi.mkv\n",
      "class World with the query of 2508_Proejct3_Unet_Lily.ipynb\n",
      "class World with the query of OBD EDITEDv2.csv\n",
      "class World with the query of descStats.xlsx\n",
      "class Sci/Tech with the query of WhatsApp Image 2023-06-10 at 12.57.03.jpeg\n",
      "class World with the query of testAnnot.csv\n",
      "class World with the query of 2005.12872.pdf\n",
      "class World with the query of data+request graphic.zip\n",
      "class World with the query of dummy.pdf\n",
      "class World with the query of mendeley-reference-manager-2.91.0.dmg\n",
      "class Sci/Tech with the query of Sabila Amanda Putri Riyadi-resume-4.pdf\n",
      "class World with the query of pande2019.pdf\n",
      "class World with the query of NewcleanedDataOBD(processed).xlsx\n",
      "class Sci/Tech with the query of WhatsApp Image 2024-03-13 at 19.37.24.jpeg\n",
      "class World with the query of 7_1_PyTorch_useful_function_.ipynb\n",
      "class Sci/Tech with the query of draft paper_Sabila Amanda_inggris (Edited) 1.1.docx\n",
      "class World with the query of statiscticalAnalysis-Copy1.ipynb\n",
      "class Sci/Tech with the query of Revolutionizing Banana Grading with ResNeXt and SVM An Automated Approach (full identity) fixed revision.pdf\n",
      "class World with the query of 1506.01186-2.pdf\n",
      "class Sci/Tech with the query of Nox_Analysis Using Machine Learning\n",
      "class World with the query of foto kokong uti.jpeg\n",
      "class World with the query of DickyAdi_Resume_MLE.pdf\n",
      "class Business with the query of Dicky Adi Naufal-cover-letter-MLE_Traveloka.docx\n",
      "class Sports with the query of Pas Photo.pdf\n",
      "class World with the query of pelan-pelan-pak-sopir-by-voicemod.mp3\n",
      "class World with the query of ilovepdf_pages-to-jpg.zip\n",
      "class Sci/Tech with the query of Pakdhe Baz - RASAH NYANGKEM 3 (OFFICIAL MUSIK VIDEO) senengane rasan rasan kui bolone setan.mp3\n",
      "class World with the query of archive-2.zip\n",
      "class World with the query of 6+Useful+english+expressions.pdf\n",
      "class World with the query of obs-studio-29.1.3-macos-arm64.dmg\n",
      "class Sci/Tech with the query of Revolutionizing Banana Grading with ResNeXt and SVM An Automated Approach (full identity) fixed revision ANOTHER.pdf\n",
      "class World with the query of output_video-2.mp4\n",
      "class Sci/Tech with the query of WhatsApp Image 2023-05-21 at 21.42.53.jpeg\n",
      "class World with the query of draw.io-universal-21.7.5.dmg\n",
      "class Business with the query of s11356-023-28107-6 (1).pdf\n",
      "class World with the query of Machine_Learning_Applied_to_the_NOx_Prediction_of_.pdf\n",
      "class World with the query of trainAnnot.csv\n",
      "class Sci/Tech with the query of Sabila Amanda Putri Riyadi-resume-3.pdf\n",
      "class Business with the query of Ari Syuhada - 195150201111007 - Skripsi.pdf\n",
      "class Sci/Tech with the query of WhatsApp Image 2023-06-07 at 15.54.17.jpeg\n",
      "class World with the query of inferenceVideo.mp4\n",
      "class Sci/Tech with the query of Revolutionizing Banana Grading with ResNeXt and SVM An Automated Approach.pdf\n",
      "class Business with the query of Longitude 118.729996.xlsx\n",
      "class World with the query of CR-V.pdf\n",
      "class World with the query of imageLabel.csv\n",
      "class World with the query of IMG_20230430_222850.jpg\n",
      "class World with the query of output1_video-2.mp4\n",
      "class Sci/Tech with the query of WhatsApp Image 2023-04-02 at 13.08.48.jpeg\n",
      "class World with the query of photo-1519733833087-3b1ceb8d56c5.jpeg\n",
      "class Sci/Tech with the query of WhatsApp Image 2023-06-10 at 12.57.06 (1).jpeg\n",
      "class World with the query of FA-Kamanta-Aluma-16x24cm.docx\n",
      "class World with the query of 4720-Article Text-12472-1-10-20180926.pdf\n",
      "class Sci/Tech with the query of Video presentasi.mp4\n",
      "class World with the query of ilovepdf_pages-to-jpg\n",
      "class Sci/Tech with the query of Sabila Amanda Putri Riyadi-resume-2.pdf\n",
      "class World with the query of FinalCleaned2.xlsx\n",
      "class World with the query of trainImages.csv\n",
      "class World with the query of aseandse-2023-f69a8d76-01b9-4d7d-9be7-8f78cdd5e5d4.jpg\n",
      "class World with the query of m77669-farhansyah final.pdf\n",
      "class World with the query of photo_2023-04-30 22.31.08.jpeg\n",
      "class Sci/Tech with the query of Preview Transkrip-2_page-0002.jpg\n",
      "class Sci/Tech with the query of Nitro PDF Pro 13.3.0 macOS.dmg\n",
      "class World with the query of Detection_of_Palm_Fruit_Maturity_Using_Convolution.pdf\n",
      "class World with the query of CamScanner 12-19-2023 00.53_1.jpg\n",
      "class World with the query of DB0201EN-Week3-1-4-Analyzing_SQLite.ipynb\n",
      "class World with the query of 苏A9A940 - 发动机信息20221113-1213垃圾车.xlsx\n",
      "class Sci/Tech with the query of WhatsApp Image 2023-10-24 at 17.14.13.jpeg\n",
      "class Business with the query of Profile Picture.html\n",
      "class World with the query of 1505.04597.pdf\n",
      "class World with the query of 1706.03762.pdf\n",
      "class World with the query of 2212.00532v3.pdf\n",
      "class Sports with the query of Jerk\n",
      "class Sci/Tech with the query of WhatsApp Image 2023-11-23 at 10.05.46 PM (1).jpeg\n",
      "class World with the query of outlierCheck1.xlsx\n",
      "class Business with the query of Data translate english.xlsx\n",
      "class World with the query of Flowchart ABP.png\n",
      "class Sci/Tech with the query of presentation slides.pptx\n",
      "class Sci/Tech with the query of Preview Transkrip-2_page-0001.jpg\n",
      "class Sci/Tech with the query of WhatsApp Image 2023-11-23 at 10.02.17 PM.jpeg\n",
      "class World with the query of CamScanner 12-19-2023 00.53_2.jpg\n",
      "class World with the query of output_video.mp4\n",
      "class World with the query of arus-uang-pada-pt.-pegadaian-2012-2015.xls\n",
      "class Business with the query of FPK_Dicky Adi Naufal Farhansyah2.pdf\n",
      "class World with the query of Image2PDF.pdf\n",
      "class Business with the query of Longitude 118.73363.xlsx\n",
      "class Sci/Tech with the query of WhatsApp Image 2023-04-02 at 13.08.47.jpeg\n",
      "class World with the query of Cloudflare_WARP.zip\n",
      "class World with the query of 2010.11929.pdf\n",
      "class Sports with the query of PERJANJIAN KONTRAK KERJA MAS RANDY.docx\n",
      "class World with the query of sample-jupyter-notebook.ipynb\n",
      "class World with the query of WhatsApp-2.23.24.80.dmg\n",
      "class World with the query of descStats2.xlsx\n",
      "class Business with the query of Longitude 118.769485.xlsx\n",
      "class Sports with the query of draft paper_Sabila Amanda.docx\n",
      "class World with the query of gitignore.txt.swp\n",
      "class Sports with the query of draft paper_Sabila Amanda_inggris (1).docx\n",
      "class World with the query of Notion-2.1.19-arm64.dmg\n",
      "class Business with the query of Longitude 118.72498.xlsx\n",
      "class Sci/Tech with the query of Cover Letter manda.pdf\n",
      "class World with the query of desc.xlsx\n",
      "class Business with the query of OBD data fix.csv\n",
      "class Sci/Tech with the query of Revolutionizing Banana Grading with ResNeXt and SVM An Automated Approach.docx\n",
      "class World with the query of m77669-farhansyah stamped-e.pdf\n",
      "class Sci/Tech with the query of Nox_Analysis Using Machine Learning.zip\n",
      "class World with the query of DickyAdi_Resume_DA.docx\n",
      "class World with the query of Dataset-20230812T065321Z-001.zip\n",
      "class World with the query of Jumpcut.app\n",
      "class World with the query of botak-kontol-by-voicemod.mp3\n",
      "class Sports with the query of draft paper_Sabila Amanda_inggris.docx\n",
      "class Sci/Tech with the query of Statistics for Data Science and Business Analysis.zip\n",
      "class Sci/Tech with the query of Virtual Background_ICoICT2023 (Final).png\n",
      "class World with the query of FinalCleaned2-2.xlsx\n",
      "class World with the query of DickyAdi_1301194041_Formal.jpg\n",
      "class Sci/Tech with the query of sample\n",
      "class World with the query of what_is_a_support_vector_machine.pdf\n",
      "class World with the query of Zoom.pkg\n",
      "class World with the query of Montgomery_Fleet_Equipment_Inventory_FA_PART_1_END-2.xlsx\n",
      "class Business with the query of PaperFormatModel (2) (1).docx\n",
      "class Business with the query of 车牌号苏A9A940 spek mobil fix.docx\n",
      "class World with the query of 1-s2.0-S0167947308002934-main.pdf\n",
      "class Business with the query of Perbandingan VGG, ResNet, GoogleNet.pdf\n",
      "class World with the query of 1506.01186.pdf\n",
      "class Business with the query of Longitude 118.75015.xlsx\n",
      "class Sci/Tech with the query of CV_Sabila Amanda Putri Riyadi.pdf\n",
      "class World with the query of Sanghyun_Woo_Convolutional_Block_Attention_ECCV_2018_paper.pdf\n",
      "class World with the query of Merged-2.pdf\n",
      "class Business with the query of Longitude 118.75392.xlsx\n",
      "class World with the query of Graduation.jpg\n",
      "class Sci/Tech with the query of Grayscale Image Colorization Methods Overview and Evaluation.pdf\n",
      "class World with the query of Full Body Photo.html\n",
      "class World with the query of forests-12-01441-v2.pdf\n",
      "class World with the query of OBD EDITED.csv\n",
      "class World with the query of ARU-Net_Research_and_Application_for_Wrist_Reference_Bone_Segmentation.pdf\n",
      "class World with the query of 1301194041_ijazah copy_page-0001-modified.jpg\n",
      "class World with the query of 1PerformanceEvaluationofCoffeeBean_CR2.pdf\n",
      "class World with the query of SpeakerDeck_-_Cracking_the_Coding_Interview_6th.pdf\n",
      "class World with the query of Acceleration.zip\n",
      "class Sci/Tech with the query of WhatsApp Image 2023-06-10 at 12.57.04 (1).jpeg\n",
      "class Business with the query of FPK_Dicky Adi Naufal Farhansyah.pdf\n",
      "class Sci/Tech with the query of Poster Utama ADSE\n",
      "class World with the query of desc-2.xlsx\n",
      "class World with the query of vlc-3.0.18-arm64.dmg\n",
      "class World with the query of 2105.02680.pdf\n",
      "class World with the query of callback\n",
      "class World with the query of Unknown\n",
      "class Sci/Tech with the query of 2 Paragraph.pdf\n",
      "class World with the query of statiscticalAnalysis.ipynb\n",
      "class Business with the query of Dicky Adi Naufal-cover-letter.pdf\n",
      "class World with the query of 1301194041_transkrip.pdf\n",
      "class Sports with the query of nan sirui.pdf\n",
      "class Sci/Tech with the query of 1570878443_need to edit (1).pdf\n",
      "class World with the query of OBD EDITED.xlsx\n",
      "class World with the query of drive-download-20230520T153323Z-001.zip\n",
      "class World with the query of EN Artificial Intelligence by Slidesgo.pptx\n",
      "class World with the query of acumalaka-slow-sound-effect-by-voicemod.mp3\n",
      "class Sci/Tech with the query of Poster Utama ADSE-20230331T142405Z-001.zip\n",
      "class World with the query of Merged.pdf\n",
      "class Business with the query of Dicky Adi Naufal Farhansyah-resume-2-2.pdf\n",
      "class World with the query of archive.zip\n",
      "class Sci/Tech with the query of Cheatsheet Machine Learning _ Model Regresi.pdf\n",
      "class World with the query of spotifydown.com - Wonderwall - Remastered.mp3\n",
      "class Sci/Tech with the query of WhatsApp Image 2023-03-31 at 21.22.47.jpeg\n",
      "class World with the query of Jerk.zip\n",
      "class World with the query of AcroRdrDC_2300820423_MUI.dmg\n",
      "class World with the query of Briggita Balqis Asabelia_122480070_Data Akhir.xlsx\n",
      "class World with the query of github-recovery-codes.txt\n",
      "class World with the query of output1_video.mp4\n",
      "class World with the query of nureize2010.pdf\n",
      "class Business with the query of Longitude 118.77852.xlsx\n",
      "class World with the query of signature.pdf\n",
      "class Sports with the query of Final Assignment.ipynb\n",
      "class World with the query of cleanedDataVal.json\n",
      "class Business with the query of Surat Pernyataan (1).pdf\n",
      "class Business with the query of if the research aims to investigate the emission characteristics and the impact of fuel consumption on NOx emissions.docx\n",
      "class Business with the query of Longitude 118.7522.xlsx\n",
      "class World with the query of Car specification.docx\n",
      "class World with the query of Jobs_API.ipynb\n",
      "class World with the query of SVM-2.ipynb\n",
      "class World with the query of lab.html\n",
      "class World with the query of Real-Time_Oil_Palm_Fruit_Grading_System_Using_Smartphone_and_Modified_YOLOv4.pdf\n",
      "class World with the query of OBD EDITEDv2.xlsx\n",
      "class World with the query of InferVid.mp4\n",
      "class World with the query of SVM DEF.ipynb\n",
      "class World with the query of CarSalesByModelStart.xlsx\n",
      "class Sci/Tech with the query of WhatsApp Image 2023-09-08 at 14.30.03.jpeg\n",
      "class World with the query of cleanedData.json\n",
      "class World with the query of SVM DEF_RDF.ipynb\n",
      "class World with the query of CopyrightReceipt.pdf\n",
      "class Sci/Tech with the query of Preview Transkrip-2_page-0002-modified.jpg\n",
      "class World with the query of OVERVIEW.docx\n",
      "class World with the query of 2010.04159.pdf\n",
      "class World with the query of Jumpcut-0.82.tar.bz2\n",
      "class World with the query of s11356-023-28107-6.pdf\n",
      "class World with the query of image.png\n",
      "class World with the query of 1301194041_ijazah.pdf\n",
      "class World with the query of DickyAdi_Resume_DA.pdf\n",
      "class World with the query of Real-time-detection-of-abnormal-driving-behavior_2023_Transportation-Researc.pdf\n",
      "class World with the query of Surat Pernyataan.pdf\n",
      "class Sci/Tech with the query of Revolutionizing Banana Grading with ResNeXt and SVM An Automated Approach (full identity) fixed revision (REAL).pdf\n",
      "class World with the query of SVM.ipynb\n",
      "class World with the query of Invertible Grayscale.pdf\n",
      "class Sci/Tech with the query of WhatsApp Image 2023-06-10 at 12.57.06.jpeg\n",
      "class Sci/Tech with the query of WhatsApp Image 2023-06-10 at 13.44.44.jpeg\n",
      "class World with the query of symmetry-14-00906.pdf\n",
      "class World with the query of wang2015.pdf\n"
     ]
    }
   ],
   "source": [
    "for i, ttl in enumerate(realArrVal):\n",
    "    print(f'class {label[ttl]} with the query of {realArr[i]}')"
   ]
  },
  {
   "cell_type": "code",
   "execution_count": 110,
   "metadata": {},
   "outputs": [
    {
     "name": "stdout",
     "output_type": "stream",
     "text": [
      "nama_bulan_tahun\n"
     ]
    }
   ],
   "source": [
    "a = 'nama'\n",
    "b = 'bulan'\n",
    "c = 'tahun'\n",
    "print('_'.join([a,b,c]))"
   ]
  },
  {
   "cell_type": "code",
   "execution_count": 10,
   "metadata": {},
   "outputs": [
    {
     "data": {
      "text/plain": [
       "['tokenizer.pkl']"
      ]
     },
     "execution_count": 10,
     "metadata": {},
     "output_type": "execute_result"
    }
   ],
   "source": [
    "joblib.dump(tfIdfVec, 'tokenizer.pkl')"
   ]
  },
  {
   "cell_type": "code",
   "execution_count": 11,
   "metadata": {},
   "outputs": [
    {
     "data": {
      "text/plain": [
       "<7600x90831 sparse matrix of type '<class 'numpy.float64'>'\n",
       "\twith 196244 stored elements in Compressed Sparse Row format>"
      ]
     },
     "execution_count": 11,
     "metadata": {},
     "output_type": "execute_result"
    }
   ],
   "source": [
    "cobaTokenizer = joblib.load('tokenizer.pkl')\n",
    "cobaLagi = cobaTokenizer.transform(testInput)\n",
    "cobaLagi"
   ]
  },
  {
   "cell_type": "code",
   "execution_count": null,
   "metadata": {},
   "outputs": [],
   "source": []
  }
 ],
 "metadata": {
  "kernelspec": {
   "display_name": "Python 3",
   "language": "python",
   "name": "python3"
  },
  "language_info": {
   "codemirror_mode": {
    "name": "ipython",
    "version": 3
   },
   "file_extension": ".py",
   "mimetype": "text/x-python",
   "name": "python",
   "nbconvert_exporter": "python",
   "pygments_lexer": "ipython3",
   "version": "3.undefined.undefined"
  }
 },
 "nbformat": 4,
 "nbformat_minor": 2
}
